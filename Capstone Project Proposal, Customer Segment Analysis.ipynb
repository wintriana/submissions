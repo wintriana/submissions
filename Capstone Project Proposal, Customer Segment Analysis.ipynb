{
 "cells": [
  {
   "cell_type": "code",
   "execution_count": null,
   "id": "1a6a86fa",
   "metadata": {},
   "outputs": [],
   "source": [
    "What is your questions - business case you are answering?\n",
    "To cluster customers into segments to optimize the significance of each customer to the business.\n",
    "This may help modify products according to customers specific needs and help businesses address the concerns of different user cohorts."
   ]
  },
  {
   "cell_type": "code",
   "execution_count": 3,
   "id": "b99dc41e",
   "metadata": {},
   "outputs": [
    {
     "name": "stdout",
     "output_type": "stream",
     "text": [
      "Object `unsupervised` not found.\n"
     ]
    }
   ],
   "source": [
    "What data are you using & How much of the data you have available:\n",
    "\n",
    "We'll use the Groceries Sales Data from Kaggle. The data has 2240 observations with the following attributes:\n",
    "ID: Customer's unique identifier\n",
    "Year_Birth: Customer's birth year\n",
    "Education: Customer's education level\n",
    "Marital_Status: Customer's marital status\n",
    "Income: Customer's yearly household income\n",
    "Kidhome: Number of children in customer's household\n",
    "Teenhome: Number of teenagers in customer's household\n",
    "Dt_Customer: Date of customer's enrollment with the company\n",
    "Recency: Number of days since customer's last purchase\n",
    "Complain: 1 if the customer complained in the last 2 years, 0 otherwise\n",
    "Products\n",
    "\n",
    "MntWines: Amount spent on wine in last 2 years\n",
    "MntFruits: Amount spent on fruits in last 2 years\n",
    "MntMeatProducts: Amount spent on meat in last 2 years\n",
    "MntFishProducts: Amount spent on fish in last 2 years\n",
    "MntSweetProducts: Amount spent on sweets in last 2 years\n",
    "MntGoldProds: Amount spent on gold in last 2 years\n",
    "Promotion\n",
    "\n",
    "NumDealsPurchases: Number of purchases made with a discount\n",
    "AcceptedCmp1: 1 if customer accepted the offer in the 1st campaign, 0 otherwise\n",
    "AcceptedCmp2: 1 if customer accepted the offer in the 2nd campaign, 0 otherwise\n",
    "AcceptedCmp3: 1 if customer accepted the offer in the 3rd campaign, 0 otherwise\n",
    "AcceptedCmp4: 1 if customer accepted the offer in the 4th campaign, 0 otherwise\n",
    "AcceptedCmp5: 1 if customer accepted the offer in the 5th campaign, 0 otherwise\n",
    "Response: 1 if customer accepted the offer in the last campaign, 0 otherwise\n",
    "Place\n",
    "\n",
    "NumWebPurchases: Number of purchases made through the company’s website\n",
    "NumCatalogPurchases: Number of purchases made using a catalogue\n",
    "NumStorePurchases: Number of purchases made directly in stores\n",
    "NumWebVisitsMonth: Number of visits to company’s website in the last month\n",
    "https://www.kaggle.com/datasets/imakash3011/customer-personality-analysis"
   ]
  },
  {
   "cell_type": "code",
   "execution_count": 4,
   "id": "d31ba52d",
   "metadata": {},
   "outputs": [
    {
     "name": "stdout",
     "output_type": "stream",
     "text": [
      "Object `using` not found.\n"
     ]
    }
   ],
   "source": [
    "What technique/ model are you using?\n",
    "I will use several different methods to compare the performance of different clustering models."
   ]
  },
  {
   "cell_type": "code",
   "execution_count": null,
   "id": "b0b3ec69",
   "metadata": {},
   "outputs": [],
   "source": []
  },
  {
   "cell_type": "code",
   "execution_count": null,
   "id": "82986816",
   "metadata": {},
   "outputs": [],
   "source": []
  }
 ],
 "metadata": {
  "kernelspec": {
   "display_name": "Python 3 (ipykernel)",
   "language": "python",
   "name": "python3"
  },
  "language_info": {
   "codemirror_mode": {
    "name": "ipython",
    "version": 3
   },
   "file_extension": ".py",
   "mimetype": "text/x-python",
   "name": "python",
   "nbconvert_exporter": "python",
   "pygments_lexer": "ipython3",
   "version": "3.9.7"
  }
 },
 "nbformat": 4,
 "nbformat_minor": 5
}
